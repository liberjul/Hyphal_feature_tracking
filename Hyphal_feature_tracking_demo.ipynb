{
  "nbformat": 4,
  "nbformat_minor": 0,
  "metadata": {
    "colab": {
      "name": "Hyphal_feature_tracking_demo.ipynb",
      "provenance": []
    },
    "kernelspec": {
      "name": "python3",
      "display_name": "Python 3"
    }
  },
  "cells": [
    {
      "cell_type": "markdown",
      "metadata": {
        "id": "GOHkhLP9psvC",
        "colab_type": "text"
      },
      "source": [
        "Welcome to Hyphal_feature_tracking!\n",
        "\n",
        "This is a short demo which should get you working with this software."
      ]
    },
    {
      "cell_type": "markdown",
      "metadata": {
        "id": "iiWGcGtEqFzR",
        "colab_type": "text"
      },
      "source": [
        "First, we need to import several libraries."
      ]
    },
    {
      "cell_type": "code",
      "metadata": {
        "id": "yBU_OMTCYa6-",
        "colab_type": "code",
        "colab": {}
      },
      "source": [
        "import sys\n",
        "from IPython.display import Image, HTML\n",
        "import pandas as pd\n",
        "from base64 import b64encode"
      ],
      "execution_count": 0,
      "outputs": []
    },
    {
      "cell_type": "markdown",
      "metadata": {
        "id": "6hxpi7NOqKSI",
        "colab_type": "text"
      },
      "source": [
        "We need to install any libraries which are not already in Colab."
      ]
    },
    {
      "cell_type": "code",
      "metadata": {
        "id": "3x2HZrAKnSv9",
        "colab_type": "code",
        "colab": {}
      },
      "source": [
        "!pip install imageio-ffmpeg"
      ],
      "execution_count": 0,
      "outputs": []
    },
    {
      "cell_type": "markdown",
      "metadata": {
        "id": "5xtj4bzhqVyY",
        "colab_type": "text"
      },
      "source": [
        "Clone the repository."
      ]
    },
    {
      "cell_type": "code",
      "metadata": {
        "id": "GJTNRdF-V1hJ",
        "colab_type": "code",
        "colab": {}
      },
      "source": [
        "!git clone https://github.com/liberjul/Hyphal_feature_tracking"
      ],
      "execution_count": 0,
      "outputs": []
    },
    {
      "cell_type": "markdown",
      "metadata": {
        "id": "1ocbLfYJqZfA",
        "colab_type": "text"
      },
      "source": [
        "Clone the Tensorflow models repository, which contains the necessary image detection model upon which the feature tracking depends."
      ]
    },
    {
      "cell_type": "code",
      "metadata": {
        "id": "w3s3MHrsWM7X",
        "colab_type": "code",
        "colab": {}
      },
      "source": [
        "!git clone https://github.com/tensorflow/models"
      ],
      "execution_count": 0,
      "outputs": []
    },
    {
      "cell_type": "markdown",
      "metadata": {
        "id": "WXikMFPBqlQ5",
        "colab_type": "text"
      },
      "source": [
        "Then `object_detection` will need to be installed and accessible as an import."
      ]
    },
    {
      "cell_type": "code",
      "metadata": {
        "id": "H_9AXIWjZLJX",
        "colab_type": "code",
        "colab": {}
      },
      "source": [
        "%cd models/research\n",
        "!protoc object_detection/protos/*.proto --python_out=.\n",
        "sys.path.insert(1, \"/content/models/research/\")\n",
        "sys.path.insert(1, \"/content/models/research/slim/\")\n",
        "%cd ../../Hyphal_feature_tracking/"
      ],
      "execution_count": 0,
      "outputs": []
    },
    {
      "cell_type": "markdown",
      "metadata": {
        "id": "RO-hFX6BqwqJ",
        "colab_type": "text"
      },
      "source": [
        "Now, we can import the `tip_tracking` module, and run the model on the example images."
      ]
    },
    {
      "cell_type": "code",
      "metadata": {
        "id": "_RwXhiCnaZVP",
        "colab_type": "code",
        "colab": {}
      },
      "source": [
        "import tip_tracking as tt\n",
        "PREF = \"JU15B_MEA_60000_4_\"\n",
        "tt.use_model(PREF)"
      ],
      "execution_count": 0,
      "outputs": []
    },
    {
      "cell_type": "markdown",
      "metadata": {
        "id": "C3wEifb6q8VL",
        "colab_type": "text"
      },
      "source": [
        "If you want to try this in Colab but with your own images, you can run the below cell. Change the third line to direct the code to your own image folder."
      ]
    },
    {
      "cell_type": "code",
      "metadata": {
        "id": "4mFVt_tPpnMm",
        "colab_type": "code",
        "colab": {}
      },
      "source": [
        "#from google.colab import drive\n",
        "#drive.mount('/content/drive')\n",
        "#tt.use_model(\"JU15B_MEA_60000_4_\", PATH_TO_IMS=\"/content/drive/example_im_folder/\")"
      ],
      "execution_count": 0,
      "outputs": []
    },
    {
      "cell_type": "markdown",
      "metadata": {
        "id": "L3etrBXKrM0C",
        "colab_type": "text"
      },
      "source": [
        "Let's show what is in the directory."
      ]
    },
    {
      "cell_type": "code",
      "metadata": {
        "id": "HHOzgRvhjM14",
        "colab_type": "code",
        "colab": {}
      },
      "source": [
        "%ls -lh"
      ],
      "execution_count": 0,
      "outputs": []
    },
    {
      "cell_type": "code",
      "metadata": {
        "id": "nTfmY12Fl1d7",
        "colab_type": "code",
        "colab": {}
      },
      "source": [
        "Image(filename='JU15B_MEA_60000_4_speed_distribution.jpg',  width=700) "
      ],
      "execution_count": 0,
      "outputs": []
    },
    {
      "cell_type": "code",
      "metadata": {
        "id": "b4E6Dg5_nsTn",
        "colab_type": "code",
        "colab": {}
      },
      "source": [
        "mp4 = open('./model_annots/JU15B_MEA_60000_4_annot_3pc_thresh.mp4','rb').read()\n",
        "data_url = \"data:video/mp4;base64,\" + b64encode(mp4).decode()\n",
        "HTML(\"\"\"\n",
        "<video width=400 controls>\n",
        "      <source src=\"%s\" type=\"video/mp4\">\n",
        "</video>\n",
        "\"\"\" % data_url)"
      ],
      "execution_count": 0,
      "outputs": []
    },
    {
      "cell_type": "code",
      "metadata": {
        "id": "y0lmyXS_ovvI",
        "colab_type": "code",
        "colab": {}
      },
      "source": [
        "mp4 = open('./model_annots/JU15B_MEA_60000_4_annot_3pc_thresh_w_hist.mp4','rb').read()\n",
        "data_url = \"data:video/mp4;base64,\" + b64encode(mp4).decode()\n",
        "HTML(\"\"\"\n",
        "<video width=400 controls>\n",
        "      <source src=\"%s\" type=\"video/mp4\">\n",
        "</video>\n",
        "\"\"\" % data_url)"
      ],
      "execution_count": 0,
      "outputs": []
    },
    {
      "cell_type": "markdown",
      "metadata": {
        "id": "WOtG_RymrXew",
        "colab_type": "text"
      },
      "source": [
        "Finally, for data analysis, you can import the file ending in *speed_data.csv"
      ]
    },
    {
      "cell_type": "code",
      "metadata": {
        "id": "TxKN3RAqju0c",
        "colab_type": "code",
        "colab": {}
      },
      "source": [
        "data = pd.read_csv(F\"{PREF}speed_data.csv\")\n",
        "data.head()"
      ],
      "execution_count": 0,
      "outputs": []
    }
  ]
}
